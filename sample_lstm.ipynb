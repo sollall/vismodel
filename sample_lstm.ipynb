{
 "cells": [
  {
   "cell_type": "code",
   "execution_count": 9,
   "metadata": {},
   "outputs": [
    {
     "name": "stdout",
     "output_type": "stream",
     "text": [
      "torch.Size([20, 1, 1]) torch.Size([20, 1])\n",
      "Epoch [10/100], Loss: 0.1230\n",
      "Epoch [20/100], Loss: 0.0720\n",
      "Epoch [30/100], Loss: 0.0752\n",
      "Epoch [40/100], Loss: 0.0591\n",
      "Epoch [50/100], Loss: 0.0384\n",
      "Epoch [60/100], Loss: 0.0173\n",
      "Epoch [70/100], Loss: 0.0122\n",
      "Epoch [80/100], Loss: 0.0125\n",
      "Epoch [90/100], Loss: 0.0114\n",
      "Epoch [100/100], Loss: 0.0115\n"
     ]
    }
   ],
   "source": [
    "import torch\n",
    "import torch.nn as nn\n",
    "import torch.optim as optim\n",
    "import numpy as np\n",
    "import matplotlib.pyplot as plt\n",
    "\n",
    "# サンプルデータの準備\n",
    "seq_length = 20\n",
    "time_steps = np.linspace(0, np.pi, seq_length + 1)\n",
    "data = np.sin(time_steps)\n",
    "data.resize((seq_length + 1, 1))  # (21, 1)の形状にリサイズ\n",
    "\n",
    "# データをテンソルに変換\n",
    "x = data[:-1]  # 入力系列\n",
    "y = data[1:]   # 出力系列\n",
    "\n",
    "x = torch.tensor(x, dtype=torch.float32).unsqueeze(-1)  # 入力系列をテンソルに変換\n",
    "y = torch.tensor(y, dtype=torch.float32)            # 出力系列をテンソルに変換\n",
    "\n",
    "print(x.shape,y.shape)\n",
    "# LSTMモデルの定義\n",
    "class LSTM(nn.Module):\n",
    "    def __init__(self, input_size, hidden_size, output_size, num_layers):\n",
    "        super(LSTM, self).__init__()\n",
    "        self.hidden_size = hidden_size\n",
    "        self.num_layers = num_layers\n",
    "        self.lstm = nn.LSTM(input_size, hidden_size, num_layers, batch_first=True)\n",
    "        self.fc = nn.Linear(hidden_size, output_size)\n",
    "\n",
    "    def forward(self, x):\n",
    "        h0 = torch.zeros(self.num_layers, x.size(0), self.hidden_size).to(x.device)\n",
    "        c0 = torch.zeros(self.num_layers, x.size(0), self.hidden_size).to(x.device)\n",
    "        out, _ = self.lstm(x, (h0, c0))\n",
    "        out = self.fc(out[:, -1, :])\n",
    "        return out\n",
    "\n",
    "# ハイパーパラメータ\n",
    "input_size = 1   # 入力の次元\n",
    "hidden_size = 32 # LSTMの隠れ層の次元\n",
    "output_size = 1  # 出力の次元\n",
    "num_layers = 2   # LSTMのレイヤー数\n",
    "num_epochs = 100\n",
    "learning_rate = 0.01\n",
    "\n",
    "# モデル、損失関数、オプティマイザの定義\n",
    "model = LSTM(input_size, hidden_size, output_size, num_layers)\n",
    "criterion = nn.MSELoss()\n",
    "optimizer = optim.Adam(model.parameters(), lr=learning_rate)\n",
    "\n",
    "# モデルのトレーニング\n",
    "for epoch in range(num_epochs):\n",
    "    outputs = model(x)\n",
    "    loss = criterion(outputs, y)\n",
    "    optimizer.zero_grad()\n",
    "    loss.backward()\n",
    "    optimizer.step()\n",
    "\n",
    "    if (epoch+1) % 10 == 0:\n",
    "        print(f'Epoch [{epoch+1}/{num_epochs}], Loss: {loss.item():.4f}')\n",
    "\n",
    "\n"
   ]
  },
  {
   "cell_type": "code",
   "execution_count": 15,
   "metadata": {},
   "outputs": [
    {
     "data": {
      "text/plain": [
       "odict_keys(['lstm.weight_ih_l0', 'lstm.weight_hh_l0', 'lstm.bias_ih_l0', 'lstm.bias_hh_l0', 'lstm.weight_ih_l1', 'lstm.weight_hh_l1', 'lstm.bias_ih_l1', 'lstm.bias_hh_l1', 'fc.weight', 'fc.bias'])"
      ]
     },
     "execution_count": 15,
     "metadata": {},
     "output_type": "execute_result"
    }
   ],
   "source": [
    "model.state_dict().keys()"
   ]
  },
  {
   "cell_type": "code",
   "execution_count": 16,
   "metadata": {},
   "outputs": [
    {
     "data": {
      "text/plain": [
       "2"
      ]
     },
     "execution_count": 16,
     "metadata": {},
     "output_type": "execute_result"
    }
   ],
   "source": [
    "model.lstm.num_layers"
   ]
  },
  {
   "cell_type": "code",
   "execution_count": null,
   "metadata": {},
   "outputs": [],
   "source": [
    "# モデルの評価\n",
    "model.eval()\n",
    "with torch.no_grad():\n",
    "    future = 50\n",
    "    pred = torch.zeros(seq_length + future, 1)\n",
    "\n",
    "    print(pred.shape,x.shape)\n",
    "    pred[:seq_length] = x.view(-1)\n",
    "\n",
    "    for i in range(seq_length, seq_length + future):\n",
    "        pred[i] = model(pred[i-seq_length:i].view(1, seq_length, 1))\n",
    "\n",
    "    plt.plot(time_steps, data, 'b-', label='Actual')\n",
    "    plt.plot(time_steps, pred.numpy(), 'r-', label='Predicted')\n",
    "    plt.legend()\n",
    "    plt.show()"
   ]
  }
 ],
 "metadata": {
  "kernelspec": {
   "display_name": "Python 3",
   "language": "python",
   "name": "python3"
  },
  "language_info": {
   "codemirror_mode": {
    "name": "ipython",
    "version": 3
   },
   "file_extension": ".py",
   "mimetype": "text/x-python",
   "name": "python",
   "nbconvert_exporter": "python",
   "pygments_lexer": "ipython3",
   "version": "3.10.12"
  }
 },
 "nbformat": 4,
 "nbformat_minor": 2
}
